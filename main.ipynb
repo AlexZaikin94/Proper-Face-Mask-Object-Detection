{
 "cells": [
  {
   "cell_type": "code",
   "execution_count": null,
   "id": "630bd15b-7523-4e2f-9cd0-a32a9f61e6ce",
   "metadata": {},
   "outputs": [],
   "source": [
    "# %config Completer.use_jedi = False\n",
    "# %load_ext autoreload\n",
    "# %autoreload 2"
   ]
  },
  {
   "cell_type": "code",
   "execution_count": null,
   "id": "f95b08a9",
   "metadata": {},
   "outputs": [],
   "source": [
    "import os\n",
    "import random\n",
    "\n",
    "import torch\n",
    "import torch.nn as nn\n",
    "import torchvision\n",
    "\n",
    "from config import cfg\n",
    "from src import pytorch_utils as ptu\n",
    "from src import utils\n",
    "from src import data_utils"
   ]
  },
  {
   "cell_type": "code",
   "execution_count": null,
   "id": "f979a512",
   "metadata": {},
   "outputs": [],
   "source": [
    "if cfg.seed is not None:\n",
    "    random.seed(cfg.seed)\n",
    "    torch.random.manual_seed(cfg.seed)\n",
    "    torch.manual_seed(cfg.seed)\n",
    "    torch.backends.cudnn.deterministic = True\n",
    "\n",
    "cpu_device = torch.device(\"cpu\")\n",
    "device = torch.device(\"cuda\" if torch.cuda.is_available() else \"cpu\")\n",
    "print('seed:', cfg.seed)\n",
    "print('device:', device)\n",
    "print('version:', cfg.version)\n",
    "if device.type == 'cuda':\n",
    "    torch.backends.cudnn.benchmark = True\n",
    "    print(torch.cuda.get_device_properties(device))"
   ]
  },
  {
   "cell_type": "code",
   "execution_count": null,
   "id": "6803752c-579d-4664-9ad2-6486f4672950",
   "metadata": {},
   "outputs": [],
   "source": [
    "dataset_a = data_utils.AndrewmvdDataset(os.path.join(cfg.data_path, cfg.dataset_a), transforms=cfg.train_transforms)\n",
    "dataset_w = data_utils.WobotIntelligenceDataset(os.path.join(cfg.data_path, cfg.dataset_w), transforms=cfg.train_transforms)"
   ]
  },
  {
   "cell_type": "code",
   "execution_count": null,
   "id": "75cae806-97f2-4732-8e56-769bbd2227bf",
   "metadata": {},
   "outputs": [],
   "source": [
    "# Test Run config override\n",
    "# cfg.train_test = False\n",
    "# cfg.load = False\n",
    "# cfg.epochs = 2\n",
    "# cfg.max_iterations = 5\n",
    "# cfg.epochs_save = None\n",
    "# cfg.save = True\n",
    "# cfg.tqdm_bar = True\n",
    "# cfg.prints = 'display'"
   ]
  },
  {
   "cell_type": "code",
   "execution_count": null,
   "id": "1e47c411-b6a8-4bc9-a6f3-8fc0994d8045",
   "metadata": {},
   "outputs": [],
   "source": [
    "if cfg.train_test:\n",
    "    dataset_a, val_a = data_utils.train_test_split(data_utils.AndrewmvdDataset, dataset_a)\n",
    "    dataset_w, val_w = data_utils.train_test_split(data_utils.WobotIntelligenceDataset, dataset_w)\n",
    "\n",
    "    val_loader = torch.utils.data.DataLoader(data_utils.UnionDataset(val_a, val_w),\n",
    "                                             batch_size=cfg.bs,\n",
    "                                             num_workers=cfg.num_workers,\n",
    "                                             shuffle=False,\n",
    "                                             drop_last=True, collate_fn=data_utils.collate_fn)\n",
    "else:\n",
    "    val_loader = None\n",
    "\n",
    "train_dataset = data_utils.UnionDataset(dataset_a, dataset_w)\n",
    "\n",
    "if cfg.balanced_classes:\n",
    "    train_dataset.get_inverse_weights(tqdm_bar=cfg.tqdm_bar)\n",
    "    shuffle = False\n",
    "    sampler = torch.utils.data.WeightedRandomSampler(train_dataset.item_weights,\n",
    "                                                     num_samples=int(cfg.bs * cfg.num_batches),\n",
    "                                                     replacement=True)\n",
    "else:\n",
    "    shuffle = True\n",
    "    sampler = None\n",
    "\n",
    "train_loader = torch.utils.data.DataLoader(train_dataset,\n",
    "                                           batch_size=cfg.bs,\n",
    "                                           num_workers=cfg.num_workers,\n",
    "                                           sampler=sampler,\n",
    "                                           shuffle=shuffle,\n",
    "                                           drop_last=True, collate_fn=data_utils.collate_fn)"
   ]
  },
  {
   "cell_type": "code",
   "execution_count": null,
   "id": "519a81c0",
   "metadata": {},
   "outputs": [],
   "source": [
    "if cfg.load is not None and os.path.exists(os.path.join(cfg.models_dir, cfg.version, ptu.naming_scheme(cfg.version, epoch=cfg.load)) + '.pth'):\n",
    "    checkpoint = ptu.load_model(cpu_device, version=cfg.version, models_dir=cfg.models_dir, epoch=cfg.load)\n",
    "    for state in checkpoint.optimizer.state.values():\n",
    "        for k, v in state.items():\n",
    "            if isinstance(v, torch.Tensor):\n",
    "                state[k] = v.to(device)\n",
    "\n",
    "    if cfg.prints == 'display':\n",
    "        display(checkpoint.log.sort_index(ascending=False).head(20))\n",
    "    elif cfg.prints == 'print':\n",
    "        print(checkpoint.log.sort_index(ascending=False).head(20))\n",
    "else:\n",
    "    model = vars(torchvision.models.detection)[cfg.model](pretrained=False,\n",
    "                                                          num_classes=cfg.num_classes,\n",
    "                                                          pretrained_backbone=True,\n",
    "                                                          progress=False)\n",
    "\n",
    "    if cfg.optimizer == 'sgd':\n",
    "        optimizer = torch.optim.SGD([p for p in model.parameters() if p.requires_grad],\n",
    "                                    lr=cfg.lr,\n",
    "                                    momentum=cfg.optimizer_momentum,\n",
    "                                    weight_decay=cfg.wd)\n",
    "    elif cfg.optimizer == 'adam':\n",
    "        optimizer = torch.optim.AdamW([p for p in model.parameters() if p.requires_grad],\n",
    "                                      lr=cfg.lr,\n",
    "                                      weight_decay=cfg.wd)\n",
    "    else:\n",
    "        raise NotImplementedError\n",
    "\n",
    "    lr_scheduler = torch.optim.lr_scheduler.CosineAnnealingLR(optimizer,\n",
    "                                                              T_max=cfg.epochs,\n",
    "                                                              eta_min=cfg.min_lr) if cfg.cos else None\n",
    "\n",
    "    checkpoint = utils.MyCheckpoint(version=cfg.version,\n",
    "                                    model=model,\n",
    "                                    optimizer=optimizer,\n",
    "                                    lr_scheduler=lr_scheduler,\n",
    "                                    models_dir=cfg.models_dir,\n",
    "                                    seed=cfg.seed,\n",
    "                                    best_policy=cfg.best_policy,\n",
    "                                    save=cfg.save,\n",
    "                                   )\n",
    "    if cfg.save:\n",
    "        with open(os.path.join(checkpoint.version_dir, 'config.txt'), 'w') as f:\n",
    "            f.writelines(str(cfg))\n",
    "\n",
    "ptu.params(checkpoint.model)"
   ]
  },
  {
   "cell_type": "code",
   "execution_count": null,
   "id": "6e40f9f4",
   "metadata": {},
   "outputs": [],
   "source": [
    "print('checkpoint.train')\n",
    "checkpoint.train(train_loader=train_loader,\n",
    "                 val_loader=val_loader,\n",
    "                 train_epochs=int(max(0, cfg.epochs - checkpoint.get_log())),\n",
    "                 optimizer_params=cfg.optimizer_params,\n",
    "                 prints=cfg.prints,\n",
    "                 epochs_save=cfg.epochs_save,\n",
    "                 epochs_evaluate_train=cfg.epochs_evaluate_train,\n",
    "                 epochs_evaluate_validation=cfg.epochs_evaluate_validation,\n",
    "                 max_iterations_train=cfg.max_iterations,\n",
    "                 max_iterations_val=cfg.max_iterations,\n",
    "                 device=device,\n",
    "                 tqdm_bar=cfg.tqdm_bar,\n",
    "                 save=cfg.save,\n",
    "                 save_log=cfg.save_log,\n",
    "                )"
   ]
  },
  {
   "cell_type": "code",
   "execution_count": null,
   "id": "dc97c5be-b524-409d-aad1-4f549ebad132",
   "metadata": {},
   "outputs": [],
   "source": [
    "checkpoint = ptu.load_model(cpu_device, version=cfg.version, models_dir=cfg.models_dir, epoch='best')\n",
    "checkpoint.model.eval()\n",
    "for p in checkpoint.model.parameters():\n",
    "    p.grad = None\n",
    "\n",
    "torch.save(checkpoint.model, cfg.final_model_path)\n",
    "model = torch.load(cfg.final_model_path, map_location=cpu_device)"
   ]
  },
  {
   "cell_type": "code",
   "execution_count": null,
   "id": "3e1dd22a-5d83-44cc-aff8-d90233c52a2b",
   "metadata": {},
   "outputs": [],
   "source": [
    "print('training completed successfully')"
   ]
  },
  {
   "cell_type": "code",
   "execution_count": null,
   "id": "ae5ff383-5029-4493-a119-298fd744f712",
   "metadata": {},
   "outputs": [],
   "source": [
    "# from src import mean_ap\n",
    "# from tqdm import tqdm\n",
    "\n",
    "# model = torch.load('model.pth', map_location=cpu_device)\n",
    "# mAPs = []\n",
    "# with torch.no_grad():\n",
    "#     pbar = tqdm(train_loader)\n",
    "#     for imgs, targets in pbar:\n",
    "#         outs = model(imgs)\n",
    "#         for target, pred in zip(targets, outs):\n",
    "#             mAPs.append(float(mean_ap.calculate_map(target['boxes'], pred['boxes'], pred['scores'])))\n",
    "#             pbar.set_postfix(mAP=sum(mAPs)/len(mAPs))\n",
    "# #             break\n",
    "# #         break"
   ]
  },
  {
   "cell_type": "code",
   "execution_count": null,
   "id": "214e512c-ec06-41b3-8d12-e028a9fad592",
   "metadata": {},
   "outputs": [],
   "source": []
  },
  {
   "cell_type": "code",
   "execution_count": null,
   "id": "8459391b-ce57-4e22-835e-d626ec74054c",
   "metadata": {},
   "outputs": [],
   "source": []
  },
  {
   "cell_type": "code",
   "execution_count": null,
   "id": "4fa335c9-3fdf-4d62-8d6d-7f6a34200c94",
   "metadata": {},
   "outputs": [],
   "source": []
  },
  {
   "cell_type": "code",
   "execution_count": null,
   "id": "715157cd",
   "metadata": {},
   "outputs": [],
   "source": []
  }
 ],
 "metadata": {
  "kernelspec": {
   "display_name": "main",
   "language": "python",
   "name": "main"
  },
  "language_info": {
   "codemirror_mode": {
    "name": "ipython",
    "version": 3
   },
   "file_extension": ".py",
   "mimetype": "text/x-python",
   "name": "python",
   "nbconvert_exporter": "python",
   "pygments_lexer": "ipython3",
   "version": "3.8.10"
  }
 },
 "nbformat": 4,
 "nbformat_minor": 5
}
